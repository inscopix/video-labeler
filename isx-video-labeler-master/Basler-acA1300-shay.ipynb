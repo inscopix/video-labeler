{
 "cells": [
  {
   "cell_type": "code",
   "execution_count": null,
   "metadata": {},
   "outputs": [],
   "source": [
    "from videolabeler import utils as vl\n",
    "import numpy as np\n",
    "import cv2\n",
    "from tqdm.notebook import tqdm\n",
    "import pandas as pd\n",
    "import os"
   ]
  },
  {
   "cell_type": "markdown",
   "metadata": {},
   "source": [
    "## Load in data"
   ]
  },
  {
   "cell_type": "code",
   "execution_count": null,
   "metadata": {},
   "outputs": [],
   "source": [
    "movie_file = '/ariel/science/mmiller/data/imu_net/OM014/20200107_OM_0014_6Weeks.mp4'\n",
    "labels_file = '/ariel/science/mmiller/data/imu_net/OM014/labels_MM.csv'\n",
    "batch_size = 250\n",
    "#label_dict= {'i':'INTERP','s':'still','r':'rearing','w':'walking',\n",
    "#             't':'turning','g':'grooming','e':'eating'}"
   ]
  },
  {
   "cell_type": "code",
   "execution_count": null,
   "metadata": {},
   "outputs": [],
   "source": [
    "vl.batchFrameLabel(video_file=movie_file,labels_file=labels_file,batch_size=batch_size,n_overlap_frames=50)"
   ]
  }
 ],
 "metadata": {
  "kernelspec": {
   "display_name": "Python 3",
   "language": "python",
   "name": "python3"
  },
  "language_info": {
   "codemirror_mode": {
    "name": "ipython",
    "version": 3
   },
   "file_extension": ".py",
   "mimetype": "text/x-python",
   "name": "python",
   "nbconvert_exporter": "python",
   "pygments_lexer": "ipython3",
   "version": "3.6.7"
  }
 },
 "nbformat": 4,
 "nbformat_minor": 4
}
